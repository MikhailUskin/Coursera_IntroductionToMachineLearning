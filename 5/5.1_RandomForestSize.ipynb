{
 "cells": [
  {
   "cell_type": "markdown",
   "metadata": {},
   "source": [
    "1) Load data"
   ]
  },
  {
   "cell_type": "code",
   "execution_count": 1,
   "metadata": {
    "collapsed": false
   },
   "outputs": [],
   "source": [
    "import pandas as pd\n",
    "import numpy as np\n",
    "import sklearn as sk\n",
    "data = pd.read_csv(r'd:\\temp\\abalone.csv')\n",
    "data['Sex'] = data['Sex'].map(lambda x: 1 if x == 'M' else (-1 if x == 'F' else 0))\n",
    "trgt = data['Rings']\n",
    "del data['Rings']"
   ]
  },
  {
   "cell_type": "markdown",
   "metadata": {},
   "source": [
    "2) Learn model"
   ]
  },
  {
   "cell_type": "code",
   "execution_count": 2,
   "metadata": {
    "collapsed": false
   },
   "outputs": [
    {
     "data": {
      "text/plain": [
       "GridSearchCV(cv=sklearn.cross_validation.KFold(n=4177, n_folds=5, shuffle=True, random_state=1),\n",
       "       error_score='raise',\n",
       "       estimator=RandomForestRegressor(bootstrap=True, criterion='mse', max_depth=None,\n",
       "           max_features='auto', max_leaf_nodes=None, min_samples_leaf=1,\n",
       "           min_samples_split=2, min_weight_fraction_leaf=0.0,\n",
       "           n_estimators=100, n_jobs=1, oob_score=False, random_state=None,\n",
       "           verbose=0, warm_start=False),\n",
       "       fit_params={}, iid=True, n_jobs=1,\n",
       "       param_grid={'n_estimators': array([ 1,  2,  3,  4,  5,  6,  7,  8,  9, 10, 11, 12, 13, 14, 15, 16, 17,\n",
       "       18, 19, 20, 21, 22, 23, 24, 25, 26, 27, 28, 29, 30, 31, 32, 33, 34,\n",
       "       35, 36, 37, 38, 39, 40, 41, 42, 43, 44, 45, 46, 47, 48, 49, 50])},\n",
       "       pre_dispatch='2*n_jobs', refit=True, scoring='r2', verbose=0)"
      ]
     },
     "execution_count": 2,
     "metadata": {},
     "output_type": "execute_result"
    }
   ],
   "source": [
    "from sklearn.ensemble import RandomForestRegressor\n",
    "from sklearn.cross_validation import KFold\n",
    "from sklearn.grid_search import GridSearchCV\n",
    "grid = {'n_estimators': np.arange(1, 51)}\n",
    "cv = KFold(data.shape[0], n_folds=5, shuffle=True, random_state=1)# Make parts from \n",
    "reg = RandomForestRegressor(n_estimators=100)\n",
    "gs = GridSearchCV(reg, grid, scoring='r2', cv=cv)\n",
    "gs.fit(data, trgt)"
   ]
  },
  {
   "cell_type": "markdown",
   "metadata": {},
   "source": [
    "3) Grid scores"
   ]
  },
  {
   "cell_type": "code",
   "execution_count": 3,
   "metadata": {
    "collapsed": false
   },
   "outputs": [
    {
     "name": "stdout",
     "output_type": "stream",
     "text": [
      "mean: 0.09536, std: 0.03129, params: {'n_estimators': 1}\n",
      "mean: 0.32189, std: 0.03708, params: {'n_estimators': 2}\n",
      "mean: 0.37891, std: 0.04253, params: {'n_estimators': 3}\n",
      "mean: 0.43392, std: 0.01463, params: {'n_estimators': 4}\n",
      "mean: 0.45498, std: 0.02663, params: {'n_estimators': 5}\n",
      "mean: 0.47470, std: 0.01913, params: {'n_estimators': 6}\n",
      "mean: 0.48790, std: 0.00972, params: {'n_estimators': 7}\n",
      "mean: 0.48486, std: 0.02522, params: {'n_estimators': 8}\n",
      "mean: 0.49076, std: 0.01888, params: {'n_estimators': 9}\n",
      "mean: 0.49747, std: 0.02610, params: {'n_estimators': 10}\n",
      "mean: 0.50155, std: 0.01323, params: {'n_estimators': 11}\n",
      "mean: 0.50348, std: 0.01913, params: {'n_estimators': 12}\n",
      "mean: 0.50615, std: 0.02274, params: {'n_estimators': 13}\n",
      "mean: 0.50797, std: 0.01520, params: {'n_estimators': 14}\n",
      "mean: 0.50615, std: 0.02397, params: {'n_estimators': 15}\n",
      "mean: 0.50885, std: 0.02456, params: {'n_estimators': 16}\n",
      "mean: 0.51892, std: 0.01469, params: {'n_estimators': 17}\n",
      "mean: 0.51297, std: 0.01457, params: {'n_estimators': 18}\n",
      "mean: 0.51808, std: 0.02402, params: {'n_estimators': 19}\n",
      "mean: 0.51904, std: 0.02241, params: {'n_estimators': 20}\n",
      "mean: 0.51367, std: 0.02236, params: {'n_estimators': 21}\n",
      "mean: 0.51155, std: 0.01536, params: {'n_estimators': 22}\n",
      "mean: 0.51949, std: 0.01936, params: {'n_estimators': 23}\n",
      "mean: 0.51881, std: 0.01740, params: {'n_estimators': 24}\n",
      "mean: 0.52250, std: 0.01248, params: {'n_estimators': 25}\n",
      "mean: 0.52601, std: 0.01629, params: {'n_estimators': 26}\n",
      "mean: 0.52194, std: 0.01624, params: {'n_estimators': 27}\n",
      "mean: 0.52231, std: 0.02121, params: {'n_estimators': 28}\n",
      "mean: 0.52300, std: 0.02443, params: {'n_estimators': 29}\n",
      "mean: 0.52241, std: 0.01569, params: {'n_estimators': 30}\n",
      "mean: 0.52528, std: 0.01878, params: {'n_estimators': 31}\n",
      "mean: 0.52027, std: 0.02002, params: {'n_estimators': 32}\n",
      "mean: 0.52834, std: 0.01566, params: {'n_estimators': 33}\n",
      "mean: 0.52256, std: 0.02053, params: {'n_estimators': 34}\n",
      "mean: 0.52235, std: 0.01435, params: {'n_estimators': 35}\n",
      "mean: 0.52373, std: 0.01411, params: {'n_estimators': 36}\n",
      "mean: 0.52358, std: 0.02035, params: {'n_estimators': 37}\n",
      "mean: 0.52664, std: 0.01665, params: {'n_estimators': 38}\n",
      "mean: 0.52601, std: 0.01886, params: {'n_estimators': 39}\n",
      "mean: 0.52955, std: 0.01883, params: {'n_estimators': 40}\n",
      "mean: 0.53184, std: 0.01935, params: {'n_estimators': 41}\n",
      "mean: 0.52718, std: 0.01926, params: {'n_estimators': 42}\n",
      "mean: 0.52851, std: 0.01724, params: {'n_estimators': 43}\n",
      "mean: 0.52894, std: 0.01804, params: {'n_estimators': 44}\n",
      "mean: 0.53202, std: 0.01255, params: {'n_estimators': 45}\n",
      "mean: 0.52379, std: 0.01698, params: {'n_estimators': 46}\n",
      "mean: 0.52262, std: 0.01858, params: {'n_estimators': 47}\n",
      "mean: 0.52986, std: 0.01914, params: {'n_estimators': 48}\n",
      "mean: 0.52691, std: 0.01187, params: {'n_estimators': 49}\n",
      "mean: 0.52829, std: 0.01973, params: {'n_estimators': 50}\n"
     ]
    }
   ],
   "source": [
    "for item in gs.grid_scores_:\n",
    "    print(item)"
   ]
  },
  {
   "cell_type": "code",
   "execution_count": null,
   "metadata": {
    "collapsed": true
   },
   "outputs": [],
   "source": []
  }
 ],
 "metadata": {
  "kernelspec": {
   "display_name": "Python 3",
   "language": "python",
   "name": "python3"
  },
  "language_info": {
   "codemirror_mode": {
    "name": "ipython",
    "version": 3
   },
   "file_extension": ".py",
   "mimetype": "text/x-python",
   "name": "python",
   "nbconvert_exporter": "python",
   "pygments_lexer": "ipython3",
   "version": "3.5.1"
  }
 },
 "nbformat": 4,
 "nbformat_minor": 0
}
