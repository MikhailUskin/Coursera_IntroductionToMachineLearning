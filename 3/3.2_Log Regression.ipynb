{
 "cells": [
  {
   "cell_type": "code",
   "execution_count": 1,
   "metadata": {
    "collapsed": true
   },
   "outputs": [],
   "source": [
    "import numpy as np\n",
    "data = np.genfromtxt(r'd:\\myproj\\ml\\3\\data-logistic.csv', delimiter=',')"
   ]
  },
  {
   "cell_type": "code",
   "execution_count": 2,
   "metadata": {
    "collapsed": false
   },
   "outputs": [],
   "source": [
    "trgd = data[:,0]\n",
    "feat = data[:,list(range(1, data.shape[1]))]"
   ]
  },
  {
   "cell_type": "markdown",
   "metadata": {},
   "source": [
    "LINEAR_REGRESSION_LEARNING"
   ]
  },
  {
   "cell_type": "code",
   "execution_count": 3,
   "metadata": {
    "collapsed": false,
    "scrolled": true
   },
   "outputs": [
    {
     "name": "stdout",
     "output_type": "stream",
     "text": [
      ">>>Reg off<<<\n",
      "243\n",
      "[0.28781162047177644, 0.091983302159254335]\n",
      ">>>Reg on<<<\n",
      "7\n",
      "[0.028558754546234216, 0.024780137249735552]\n"
     ]
    }
   ],
   "source": [
    "from scipy.spatial import distance\n",
    "from math import exp\n",
    "from math import sqrt\n",
    "\n",
    "def linear_regression(src, trg, reg):\n",
    "\n",
    "    # w0 weights\n",
    "    w_prev = [0.0, 0.0]\n",
    "    w_cur = [0.0, 0.0]\n",
    "\n",
    "    # step\n",
    "    k = 0.1\n",
    "\n",
    "    # reg\n",
    "    C = 10.0\n",
    "    \n",
    "    # objects length\n",
    "    l = len(src)\n",
    "\n",
    "    itrs = 0\n",
    "    \n",
    "    # Start learning...\n",
    "    while True and itrs < 10000:\n",
    "\n",
    "        w_cur[0] = w_cur[0] + k*(1/l)*sum([trg[i]*src[i][0]*(1-1/(1+exp(-trg[i]*(w_prev[0]*src[i][0]+w_prev[1]*src[i][1])))) for i in range(l)])-reg*k*C*w_prev[0]\n",
    "        w_cur[1] = w_cur[1] + k*(1/l)*sum([trg[i]*src[i][1]*(1-1/(1+exp(-trg[i]*(w_prev[0]*src[i][0]+w_prev[1]*src[i][1])))) for i in range(l)])-reg*k*C*w_prev[1]\n",
    "\n",
    "        if distance.euclidean(w_cur, w_prev) < 1e-5:\n",
    "            break\n",
    "        \n",
    "        w_prev = w_cur[:]\n",
    "        itrs += 1\n",
    "\n",
    "    print(itrs)\n",
    "    \n",
    "    return w_cur\n",
    "\n",
    "print('>>>Reg off<<<')\n",
    "w_unreg = linear_regression(feat, trgd, 0)\n",
    "print(w_unreg)\n",
    "\n",
    "print('>>>Reg on<<<')\n",
    "w_reg = linear_regression(feat, trgd, 1)\n",
    "print(w_reg)\n"
   ]
  },
  {
   "cell_type": "code",
   "execution_count": 4,
   "metadata": {
    "collapsed": false
   },
   "outputs": [],
   "source": [
    "def linreg_clf(w, src):\n",
    "\n",
    "    return [(1/(1+exp(-w[0]*src[i][0] - w[1]*src[i][1]))) for i in range(len(src))]\n",
    "\n",
    "y_reg = linreg_clf(w_reg, feat)\n",
    "y_unreg = linreg_clf(w_unreg, feat)"
   ]
  },
  {
   "cell_type": "code",
   "execution_count": 5,
   "metadata": {
    "collapsed": false
   },
   "outputs": [
    {
     "name": "stdout",
     "output_type": "stream",
     "text": [
      "Scores are:\n",
      "0.927\n",
      "0.936\n"
     ]
    }
   ],
   "source": [
    "from sklearn.metrics import roc_auc_score\n",
    "\n",
    "sc_reg = round(roc_auc_score(trgd, y_reg), 3)\n",
    "sc_unreg = round(roc_auc_score(trgd, y_unreg), 3)\n",
    "\n",
    "print('Scores are:')\n",
    "print(sc_unreg)\n",
    "print(sc_reg)"
   ]
  },
  {
   "cell_type": "code",
   "execution_count": null,
   "metadata": {
    "collapsed": true
   },
   "outputs": [],
   "source": []
  }
 ],
 "metadata": {
  "kernelspec": {
   "display_name": "Python 3",
   "language": "python",
   "name": "python3"
  },
  "language_info": {
   "codemirror_mode": {
    "name": "ipython",
    "version": 3
   },
   "file_extension": ".py",
   "mimetype": "text/x-python",
   "name": "python",
   "nbconvert_exporter": "python",
   "pygments_lexer": "ipython3",
   "version": "3.5.1"
  }
 },
 "nbformat": 4,
 "nbformat_minor": 0
}
