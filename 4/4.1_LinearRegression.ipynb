{
 "cells": [
  {
   "cell_type": "markdown",
   "metadata": {},
   "source": [
    "1) Load data"
   ]
  },
  {
   "cell_type": "code",
   "execution_count": 1,
   "metadata": {
    "collapsed": true
   },
   "outputs": [],
   "source": [
    "import pandas as pd\n",
    "import numpy as np\n",
    "data_tr = pd.read_csv(r'd:\\myproj\\ml\\4\\salary-train.csv')\n",
    "data_tst = pd.read_csv(r'd:\\myproj\\ml\\4\\salary-test-mini.csv')"
   ]
  },
  {
   "cell_type": "markdown",
   "metadata": {},
   "source": [
    "2) Data preprocessing"
   ]
  },
  {
   "cell_type": "code",
   "execution_count": 2,
   "metadata": {
    "collapsed": false
   },
   "outputs": [],
   "source": [
    "data_tr['FullDescription'] = data_tr['FullDescription'].apply(np.char.lower)\n",
    "data_tr['FullDescription'] = data_tr['FullDescription'].replace('[^a-zA-Z0-9]', ' ', regex = True)\n",
    "data_tr['LocationNormalized'].fillna('nan', inplace=True)\n",
    "data_tr['ContractTime'].fillna('nan', inplace=True)\n",
    "\n",
    "data_tst['FullDescription'] = data_tst['FullDescription'].apply(np.char.lower)\n",
    "data_tst['FullDescription'] = data_tst['FullDescription'].replace('[^a-zA-Z0-9]', ' ', regex = True)"
   ]
  },
  {
   "cell_type": "code",
   "execution_count": 3,
   "metadata": {
    "collapsed": true
   },
   "outputs": [],
   "source": [
    "from sklearn.feature_extraction.text import TfidfVectorizer\n",
    "vect = TfidfVectorizer(min_df=5)\n",
    "X_train_full_desc = vect.fit_transform(data_tr['FullDescription'])\n",
    "X_test_full_desc = vect.transform(data_tst['FullDescription'])"
   ]
  },
  {
   "cell_type": "code",
   "execution_count": 4,
   "metadata": {
    "collapsed": false
   },
   "outputs": [],
   "source": [
    "from sklearn.feature_extraction import DictVectorizer\n",
    "enc = DictVectorizer()\n",
    "X_train_categ = enc.fit_transform(data_tr[['LocationNormalized', 'ContractTime']].to_dict('records'))\n",
    "X_test_categ = enc.transform(data_tst[['LocationNormalized', 'ContractTime']].to_dict('records'))"
   ]
  },
  {
   "cell_type": "code",
   "execution_count": 5,
   "metadata": {
    "collapsed": false
   },
   "outputs": [],
   "source": [
    "from scipy.sparse import hstack\n",
    "X_tr = hstack([X_train_full_desc, X_train_categ])\n",
    "X_tst = hstack([X_test_full_desc, X_test_categ])"
   ]
  },
  {
   "cell_type": "markdown",
   "metadata": {},
   "source": [
    "3) Learn ridge regression model"
   ]
  },
  {
   "cell_type": "code",
   "execution_count": 6,
   "metadata": {
    "collapsed": false
   },
   "outputs": [
    {
     "data": {
      "text/plain": [
       "Ridge(alpha=1.0, copy_X=True, fit_intercept=True, max_iter=None,\n",
       "   normalize=False, random_state=None, solver='auto', tol=0.001)"
      ]
     },
     "execution_count": 6,
     "metadata": {},
     "output_type": "execute_result"
    }
   ],
   "source": [
    "from sklearn.linear_model import Ridge\n",
    "clf = Ridge(alpha=1.0)\n",
    "clf.fit(X_tr, data_tr['SalaryNormalized'].values)"
   ]
  },
  {
   "cell_type": "markdown",
   "metadata": {},
   "source": [
    "4) Prediction"
   ]
  },
  {
   "cell_type": "code",
   "execution_count": 7,
   "metadata": {
    "collapsed": false
   },
   "outputs": [
    {
     "name": "stdout",
     "output_type": "stream",
     "text": [
      "56565.06\n",
      "37186.42\n"
     ]
    }
   ],
   "source": [
    "y_predict = clf.predict(X_tst)\n",
    "for salary in y_predict:\n",
    "    print(round(salary, 2))"
   ]
  },
  {
   "cell_type": "code",
   "execution_count": null,
   "metadata": {
    "collapsed": true
   },
   "outputs": [],
   "source": []
  }
 ],
 "metadata": {
  "kernelspec": {
   "display_name": "Python 3",
   "language": "python",
   "name": "python3"
  },
  "language_info": {
   "codemirror_mode": {
    "name": "ipython",
    "version": 3
   },
   "file_extension": ".py",
   "mimetype": "text/x-python",
   "name": "python",
   "nbconvert_exporter": "python",
   "pygments_lexer": "ipython3",
   "version": "3.5.1"
  }
 },
 "nbformat": 4,
 "nbformat_minor": 0
}
