{
 "cells": [
  {
   "cell_type": "markdown",
   "metadata": {},
   "source": [
    "1) Import & Load"
   ]
  },
  {
   "cell_type": "code",
   "execution_count": null,
   "metadata": {
    "collapsed": false
   },
   "outputs": [],
   "source": [
    "from skimage.io import imread\n",
    "from skimage import img_as_float\n",
    "import numpy as np\n",
    "from sklearn.cluster import KMeans\n",
    "\n",
    "image = (img_as_float(imread(r'd:\\myproj\\ml\\6\\parrots.jpg')))\n",
    "X = image.reshape((image.shape[0]*image.shape[1], 3))\n",
    "clust_n = 20"
   ]
  },
  {
   "cell_type": "markdown",
   "metadata": {},
   "source": [
    "2) Learn model"
   ]
  },
  {
   "cell_type": "code",
   "execution_count": null,
   "metadata": {
    "collapsed": false
   },
   "outputs": [
    {
     "name": "stdout",
     "output_type": "stream",
     "text": [
      "1\n",
      "9.86639473003\n",
      "12.1439926196\n",
      "2\n",
      "12.1450144894\n",
      "17.0047535933\n",
      "3\n",
      "13.2081123621\n",
      "18.5883785143\n",
      "4\n",
      "14.4163028381\n",
      "19.8313366493\n",
      "5\n",
      "15.5908773714\n",
      "20.1720034352\n",
      "6\n",
      "16.6066369627\n",
      "22.1102036954\n",
      "7\n",
      "17.6989010472\n",
      "23.0253535066\n",
      "8\n",
      "18.4845821212\n",
      "23.5218251811\n",
      "9\n",
      "19.166784755\n",
      "25.2082428951\n",
      "10\n",
      "19.6967425824\n",
      "25.8519365625\n",
      "11\n",
      "20.1824248736\n",
      "25.8519365625\n",
      "12\n",
      "20.651884151\n",
      "26.5471786877\n",
      "13\n",
      "21.0770050834\n",
      "27.3029499055\n",
      "14\n",
      "21.3532220202\n",
      "28.1308036087\n",
      "15\n",
      "21.6335356887\n",
      "28.1308036087\n",
      "16\n",
      "21.9185789256"
     ]
    }
   ],
   "source": [
    "PSNR_mean = np.zeros(clust_n) \n",
    "PSNR_median = np.zeros(clust_n)\n",
    "    \n",
    "for k in range(1, clust_n+1):\n",
    "\n",
    "    print(k)\n",
    "    \n",
    "    clust = KMeans(init='k-means++', random_state=241, n_clusters=k)\n",
    "    clust.fit(X)\n",
    "\n",
    "    X_mean = X.copy()\n",
    "    for i in range(clust.n_clusters):\n",
    "        X_mean[clust.labels_ == i] = np.mean(X[clust.labels_ == i], axis=0)   \n",
    "    X_median = X.copy()\n",
    "    for i in range(clust.n_clusters):\n",
    "        X_median[clust.labels_ == i] = np.median(X[clust.labels_ == i], axis=0) \n",
    "    \n",
    "    MSE_mean = np.mean((X - X_mean) ** 2)\n",
    "    PSNR_mean[k] = 10 * np.log10(1.0 / MSE_mean)\n",
    "\n",
    "    MSE_median = np.median((X - X_median) ** 2)\n",
    "    PSNR_median[k] = 10 * np.log10(1.0 / MSE_median)\n",
    "    \n",
    "    print(PSNR_mean[k])\n",
    "    print(PSNR_median[k])"
   ]
  },
  {
   "cell_type": "markdown",
   "metadata": {},
   "source": [
    "3) Draw graphs"
   ]
  },
  {
   "cell_type": "code",
   "execution_count": null,
   "metadata": {
    "collapsed": true
   },
   "outputs": [],
   "source": [
    "import matplotlib.pyplot as plt\n",
    "%matplotlib inline\n",
    "\n",
    "plt.figure()\n",
    "plt.plot(PSNR_mean, 'b', linewidth=2)\n",
    "plt.plot(PSNR_median, 'g', linewidth=2)\n",
    "plt.legend(['PSNR_mean', 'PSNR_median'])\n",
    "plt.show()"
   ]
  },
  {
   "cell_type": "code",
   "execution_count": null,
   "metadata": {
    "collapsed": true
   },
   "outputs": [],
   "source": [
    "print(PSNR_mean)\n",
    "print(PSNR_median)"
   ]
  },
  {
   "cell_type": "code",
   "execution_count": null,
   "metadata": {
    "collapsed": true
   },
   "outputs": [],
   "source": []
  }
 ],
 "metadata": {
  "kernelspec": {
   "display_name": "Python 3",
   "language": "python",
   "name": "python3"
  },
  "language_info": {
   "codemirror_mode": {
    "name": "ipython",
    "version": 3
   },
   "file_extension": ".py",
   "mimetype": "text/x-python",
   "name": "python",
   "nbconvert_exporter": "python",
   "pygments_lexer": "ipython3",
   "version": "3.5.1"
  }
 },
 "nbformat": 4,
 "nbformat_minor": 0
}
