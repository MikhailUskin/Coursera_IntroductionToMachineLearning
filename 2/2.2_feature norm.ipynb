{
 "cells": [
  {
   "cell_type": "code",
   "execution_count": 1,
   "metadata": {
    "collapsed": true
   },
   "outputs": [],
   "source": [
    "import numpy as np\n",
    "data_train = np.genfromtxt(r'd:\\myproj\\ml\\2\\perceptron-train.csv', delimiter=',')\n",
    "data_test = np.genfromtxt(r'd:\\myproj\\ml\\2\\perceptron-test.csv', delimiter=',')\n",
    "srcd_train = data_train[:,list(range(1, data_train.shape[1]))]\n",
    "srcd_test = data_test[:,list(range(1, data_test.shape[1]))]\n",
    "trgt_train = data_train[:,0]\n",
    "trgt_test = data_test[:,0]"
   ]
  },
  {
   "cell_type": "code",
   "execution_count": 2,
   "metadata": {
    "collapsed": true
   },
   "outputs": [],
   "source": [
    "from sklearn.linear_model import Perceptron\n",
    "clf = Perceptron(random_state=241)\n",
    "clf.fit(srcd_train, trgt_train)\n",
    "pred_test = clf.predict(srcd_test)"
   ]
  },
  {
   "cell_type": "code",
   "execution_count": 3,
   "metadata": {
    "collapsed": true
   },
   "outputs": [],
   "source": [
    "from sklearn.metrics import accuracy_score\n",
    "acc_un = accuracy_score(trgt_test, pred_test)"
   ]
  },
  {
   "cell_type": "code",
   "execution_count": 4,
   "metadata": {
    "collapsed": true
   },
   "outputs": [],
   "source": [
    "from sklearn.preprocessing import StandardScaler\n",
    "scaler = StandardScaler()\n",
    "srcd_train_scaled = scaler.fit_transform(srcd_train)\n",
    "srcd_test_scaled = scaler.transform(srcd_test)"
   ]
  },
  {
   "cell_type": "code",
   "execution_count": 5,
   "metadata": {
    "collapsed": true
   },
   "outputs": [],
   "source": [
    "clf = Perceptron(random_state=241)\n",
    "clf.fit(srcd_train_scaled, trgt_train)\n",
    "pred_test = clf.predict(srcd_test_scaled)"
   ]
  },
  {
   "cell_type": "code",
   "execution_count": 6,
   "metadata": {
    "collapsed": true
   },
   "outputs": [],
   "source": [
    "acc_sc = accuracy_score(trgt_test, pred_test)"
   ]
  },
  {
   "cell_type": "code",
   "execution_count": 7,
   "metadata": {
    "collapsed": false
   },
   "outputs": [
    {
     "name": "stdout",
     "output_type": "stream",
     "text": [
      "Unscaled accuracy: 0.36\n",
      "Scaled accuracy: 0.925\n",
      "Difference: 0.5650000000000001\n"
     ]
    }
   ],
   "source": [
    "print('Unscaled accuracy: {}\\nScaled accuracy: {}\\nDifference: {}'.format(acc_un, acc_sc, acc_sc-acc_un))"
   ]
  },
  {
   "cell_type": "code",
   "execution_count": null,
   "metadata": {
    "collapsed": true
   },
   "outputs": [],
   "source": []
  }
 ],
 "metadata": {
  "kernelspec": {
   "display_name": "Python 3",
   "language": "python",
   "name": "python3"
  },
  "language_info": {
   "codemirror_mode": {
    "name": "ipython",
    "version": 3
   },
   "file_extension": ".py",
   "mimetype": "text/x-python",
   "name": "python",
   "nbconvert_exporter": "python",
   "pygments_lexer": "ipython3",
   "version": "3.5.1"
  }
 },
 "nbformat": 4,
 "nbformat_minor": 0
}
