{
 "cells": [
  {
   "cell_type": "code",
   "execution_count": 1,
   "metadata": {
    "collapsed": false
   },
   "outputs": [],
   "source": [
    "import numpy as np\n",
    "data = np.genfromtxt(r'd:\\myproj\\ml\\2\\wine.data', delimiter=',')"
   ]
  },
  {
   "cell_type": "code",
   "execution_count": 2,
   "metadata": {
    "collapsed": false
   },
   "outputs": [],
   "source": [
    "trgd = data[:,0]\n",
    "fead_prev = data[:,list(range(1, data.shape[1]))]"
   ]
  },
  {
   "cell_type": "code",
   "execution_count": 3,
   "metadata": {
    "collapsed": false
   },
   "outputs": [],
   "source": [
    "from sklearn.neighbors import KNeighborsClassifier\n",
    "from sklearn.cross_validation import cross_val_score\n",
    "from sklearn.cross_validation import KFold\n",
    "from sklearn.preprocessing import scale"
   ]
  },
  {
   "cell_type": "code",
   "execution_count": 4,
   "metadata": {
    "collapsed": false,
    "scrolled": false
   },
   "outputs": [],
   "source": [
    "kf = KFold(data.shape[0], n_folds=5, shuffle=True, random_state=42)"
   ]
  },
  {
   "cell_type": "code",
   "execution_count": 5,
   "metadata": {
    "collapsed": false
   },
   "outputs": [],
   "source": [
    "scores_prev = np.array([cross_val_score(KNeighborsClassifier(n_neighbors=k), fead_prev, trgd, cv=kf, scoring='accuracy') for k in range(1,50)])"
   ]
  },
  {
   "cell_type": "code",
   "execution_count": 7,
   "metadata": {
    "collapsed": false
   },
   "outputs": [],
   "source": [
    "meansc = scores_prev.mean(axis=1)"
   ]
  },
  {
   "cell_type": "code",
   "execution_count": 8,
   "metadata": {
    "collapsed": false
   },
   "outputs": [
    {
     "data": {
      "text/plain": [
       "array([ 0.73047619,  0.66253968,  0.70825397,  0.65777778,  0.67460317,\n",
       "        0.67428571,  0.68      ,  0.68      ,  0.70238095,  0.68015873,\n",
       "        0.70253968,  0.69666667,  0.69095238,  0.67936508,  0.70190476,\n",
       "        0.67952381,  0.7015873 ,  0.67952381,  0.67936508,  0.69095238,\n",
       "        0.70190476,  0.69650794,  0.70206349,  0.70761905,  0.70190476,\n",
       "        0.69650794,  0.69634921,  0.70793651,  0.71349206,  0.70793651,\n",
       "        0.69095238,  0.71349206,  0.71349206,  0.72460317,  0.72460317,\n",
       "        0.71349206,  0.71349206,  0.71349206,  0.70793651,  0.70777778,\n",
       "        0.71349206,  0.70777778,  0.70777778,  0.70777778,  0.70777778,\n",
       "        0.70777778,  0.69666667,  0.71904762,  0.69666667])"
      ]
     },
     "execution_count": 8,
     "metadata": {},
     "output_type": "execute_result"
    }
   ],
   "source": [
    "meansc"
   ]
  },
  {
   "cell_type": "code",
   "execution_count": 21,
   "metadata": {
    "collapsed": false,
    "scrolled": true
   },
   "outputs": [
    {
     "name": "stdout",
     "output_type": "stream",
     "text": [
      "Max index: 29\n",
      "Max value: 0.9776190476190475\n"
     ]
    }
   ],
   "source": [
    "fead_sc = scale(fead_prev, axis=0, with_mean=True, with_std=True, copy=True)\n",
    "scores_sc = np.array([cross_val_score(KNeighborsClassifier(n_neighbors=k), fead_sc, trgd, cv=kf, scoring='accuracy') for k in range(1,50)])\n",
    "maxi_sc = (scores_sc.mean(axis=1)).argmax()\n",
    "maxv_sc = (scores_sc.mean(axis=1)).max()\n",
    "print('Max index: {}\\nMax value: {}'.format(maxi_sc+1, maxv_sc))"
   ]
  },
  {
   "cell_type": "code",
   "execution_count": null,
   "metadata": {
    "collapsed": true
   },
   "outputs": [],
   "source": []
  }
 ],
 "metadata": {
  "kernelspec": {
   "display_name": "Python 3",
   "language": "python",
   "name": "python3"
  },
  "language_info": {
   "codemirror_mode": {
    "name": "ipython",
    "version": 3
   },
   "file_extension": ".py",
   "mimetype": "text/x-python",
   "name": "python",
   "nbconvert_exporter": "python",
   "pygments_lexer": "ipython3",
   "version": "3.5.1"
  }
 },
 "nbformat": 4,
 "nbformat_minor": 0
}
