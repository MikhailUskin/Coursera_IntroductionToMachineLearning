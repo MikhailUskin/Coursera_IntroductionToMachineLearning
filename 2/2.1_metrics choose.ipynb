{
 "cells": [
  {
   "cell_type": "code",
   "execution_count": 1,
   "metadata": {
    "collapsed": false
   },
   "outputs": [],
   "source": [
    "from sklearn import datasets\n",
    "from sklearn.neighbors import KNeighborsRegressor\n",
    "from sklearn.cross_validation import cross_val_score\n",
    "from sklearn.cross_validation import KFold\n",
    "from sklearn.preprocessing import scale\n",
    "import numpy as np"
   ]
  },
  {
   "cell_type": "code",
   "execution_count": 2,
   "metadata": {
    "collapsed": false
   },
   "outputs": [],
   "source": [
    "boston = datasets.load_boston()\n",
    "fead_sc = scale(boston['data'], axis=0, with_mean=True, with_std=True, copy=True)"
   ]
  },
  {
   "cell_type": "code",
   "execution_count": 3,
   "metadata": {
    "collapsed": false
   },
   "outputs": [],
   "source": [
    "kf = KFold(fead_sc.shape[0], n_folds=5, shuffle=True, random_state=42)"
   ]
  },
  {
   "cell_type": "code",
   "execution_count": 4,
   "metadata": {
    "collapsed": false
   },
   "outputs": [],
   "source": [
    "scores_sc = np.array([cross_val_score(KNeighborsRegressor(n_neighbors=5, weights='distance', p=i), fead_sc, boston['target'], cv=kf, scoring='mean_squared_error') for i in np.linspace(1.0, 10.0, num=200)])"
   ]
  },
  {
   "cell_type": "code",
   "execution_count": 5,
   "metadata": {
    "collapsed": false
   },
   "outputs": [
    {
     "name": "stdout",
     "output_type": "stream",
     "text": [
      "Max index: 4\n",
      "Max value: -11.836923625344417\n"
     ]
    }
   ],
   "source": [
    "maxi_sc = (scores_sc.max(axis=1)).argmax()\n",
    "maxv_sc = (scores_sc.max(axis=1)).max()\n",
    "print('Max index: {}\\nMax value: {}'.format(maxi_sc+1, maxv_sc))"
   ]
  },
  {
   "cell_type": "code",
   "execution_count": 6,
   "metadata": {
    "collapsed": false
   },
   "outputs": [
    {
     "data": {
      "text/plain": [
       "array([  1.        ,   1.04522613,   1.09045226,   1.13567839,\n",
       "         1.18090452,   1.22613065,   1.27135678,   1.31658291,\n",
       "         1.36180905,   1.40703518,   1.45226131,   1.49748744,\n",
       "         1.54271357,   1.5879397 ,   1.63316583,   1.67839196,\n",
       "         1.72361809,   1.76884422,   1.81407035,   1.85929648,\n",
       "         1.90452261,   1.94974874,   1.99497487,   2.04020101,\n",
       "         2.08542714,   2.13065327,   2.1758794 ,   2.22110553,\n",
       "         2.26633166,   2.31155779,   2.35678392,   2.40201005,\n",
       "         2.44723618,   2.49246231,   2.53768844,   2.58291457,\n",
       "         2.6281407 ,   2.67336683,   2.71859296,   2.7638191 ,\n",
       "         2.80904523,   2.85427136,   2.89949749,   2.94472362,\n",
       "         2.98994975,   3.03517588,   3.08040201,   3.12562814,\n",
       "         3.17085427,   3.2160804 ,   3.26130653,   3.30653266,\n",
       "         3.35175879,   3.39698492,   3.44221106,   3.48743719,\n",
       "         3.53266332,   3.57788945,   3.62311558,   3.66834171,\n",
       "         3.71356784,   3.75879397,   3.8040201 ,   3.84924623,\n",
       "         3.89447236,   3.93969849,   3.98492462,   4.03015075,\n",
       "         4.07537688,   4.12060302,   4.16582915,   4.21105528,\n",
       "         4.25628141,   4.30150754,   4.34673367,   4.3919598 ,\n",
       "         4.43718593,   4.48241206,   4.52763819,   4.57286432,\n",
       "         4.61809045,   4.66331658,   4.70854271,   4.75376884,\n",
       "         4.79899497,   4.84422111,   4.88944724,   4.93467337,\n",
       "         4.9798995 ,   5.02512563,   5.07035176,   5.11557789,\n",
       "         5.16080402,   5.20603015,   5.25125628,   5.29648241,\n",
       "         5.34170854,   5.38693467,   5.4321608 ,   5.47738693,\n",
       "         5.52261307,   5.5678392 ,   5.61306533,   5.65829146,\n",
       "         5.70351759,   5.74874372,   5.79396985,   5.83919598,\n",
       "         5.88442211,   5.92964824,   5.97487437,   6.0201005 ,\n",
       "         6.06532663,   6.11055276,   6.15577889,   6.20100503,\n",
       "         6.24623116,   6.29145729,   6.33668342,   6.38190955,\n",
       "         6.42713568,   6.47236181,   6.51758794,   6.56281407,\n",
       "         6.6080402 ,   6.65326633,   6.69849246,   6.74371859,\n",
       "         6.78894472,   6.83417085,   6.87939698,   6.92462312,\n",
       "         6.96984925,   7.01507538,   7.06030151,   7.10552764,\n",
       "         7.15075377,   7.1959799 ,   7.24120603,   7.28643216,\n",
       "         7.33165829,   7.37688442,   7.42211055,   7.46733668,\n",
       "         7.51256281,   7.55778894,   7.60301508,   7.64824121,\n",
       "         7.69346734,   7.73869347,   7.7839196 ,   7.82914573,\n",
       "         7.87437186,   7.91959799,   7.96482412,   8.01005025,\n",
       "         8.05527638,   8.10050251,   8.14572864,   8.19095477,\n",
       "         8.2361809 ,   8.28140704,   8.32663317,   8.3718593 ,\n",
       "         8.41708543,   8.46231156,   8.50753769,   8.55276382,\n",
       "         8.59798995,   8.64321608,   8.68844221,   8.73366834,\n",
       "         8.77889447,   8.8241206 ,   8.86934673,   8.91457286,\n",
       "         8.95979899,   9.00502513,   9.05025126,   9.09547739,\n",
       "         9.14070352,   9.18592965,   9.23115578,   9.27638191,\n",
       "         9.32160804,   9.36683417,   9.4120603 ,   9.45728643,\n",
       "         9.50251256,   9.54773869,   9.59296482,   9.63819095,\n",
       "         9.68341709,   9.72864322,   9.77386935,   9.81909548,\n",
       "         9.86432161,   9.90954774,   9.95477387,  10.        ])"
      ]
     },
     "execution_count": 6,
     "metadata": {},
     "output_type": "execute_result"
    }
   ],
   "source": [
    "np.linspace(1.0, 10.0, num=200)"
   ]
  },
  {
   "cell_type": "code",
   "execution_count": null,
   "metadata": {
    "collapsed": true
   },
   "outputs": [],
   "source": []
  }
 ],
 "metadata": {
  "kernelspec": {
   "display_name": "Python 3",
   "language": "python",
   "name": "python3"
  },
  "language_info": {
   "codemirror_mode": {
    "name": "ipython",
    "version": 3
   },
   "file_extension": ".py",
   "mimetype": "text/x-python",
   "name": "python",
   "nbconvert_exporter": "python",
   "pygments_lexer": "ipython3",
   "version": "3.5.1"
  }
 },
 "nbformat": 4,
 "nbformat_minor": 0
}
